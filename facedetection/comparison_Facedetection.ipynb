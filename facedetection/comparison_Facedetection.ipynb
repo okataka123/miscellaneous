{
 "cells": [
  {
   "cell_type": "markdown",
   "id": "7dd71f61-6bf2-4835-900a-17c457de9da6",
   "metadata": {},
   "source": [
    "## Comparison"
   ]
  },
  {
   "cell_type": "code",
   "execution_count": null,
   "id": "0dcd490c-a88f-410e-9380-c17024d642b5",
   "metadata": {},
   "outputs": [],
   "source": [
    "import cv2\n",
    "import glob\n",
    "import matplotlib.pyplot as plt\n",
    "import matplotlib.image as img\n",
    "from FaceDetection import *"
   ]
  },
  {
   "cell_type": "code",
   "execution_count": null,
   "id": "26be0b43-b033-484b-985a-9d4b939618b0",
   "metadata": {},
   "outputs": [],
   "source": [
    "pics = sorted(glob.glob('./pics/*'))\n",
    "for pic in pics:\n",
    "    print(pic)"
   ]
  },
  {
   "cell_type": "code",
   "execution_count": null,
   "id": "089c7b00-0db8-446d-baa4-82f6d2bc705a",
   "metadata": {},
   "outputs": [],
   "source": [
    "rotation_angles = [0, 15, 30, 45, 60, 90, -15, -30, -45, -60, -90]\n",
    "detectors = {\n",
    "    'Haar-like': detectFace_HaarlikeFeature, \n",
    "    'ResNet10base': detectFace_ResNet10base,\n",
    "}    "
   ]
  },
  {
   "cell_type": "code",
   "execution_count": null,
   "id": "e4eeab3f-eed4-4ea8-adb9-bb471443c4ff",
   "metadata": {},
   "outputs": [],
   "source": [
    "def infer(picno, kind, theta=0):\n",
    "    tmppath = pics[picno]\n",
    "    rgbimg = img.imread(tmppath)\n",
    "    rotated_rgbimg = rotate(rgbimg, theta)\n",
    "    bboxes = detectors[kind](rotate(rotated_rgbimg, theta))\n",
    "    print(f'detector: {kind}, theta: {theta}')\n",
    "    show_image_withbb_nb(rotated_rgbimg, bboxes)\n",
    "\n",
    "def compare_onepic(picno):\n",
    "    '''\n",
    "    指定した1つの顔画像に対して、それぞれのモデル、それぞれの角度による顔検出結果を表示する。\n",
    "    '''\n",
    "    tmppath = pics[picno]\n",
    "    rgbimg = img.imread(tmppath)\n",
    "    for kind in detectors.keys():\n",
    "        for theta in rotation_angles:\n",
    "            rotated_rgbimg = rotate(rgbimg, theta)\n",
    "            bboxes = detectors[kind](rotate(rotated_rgbimg, theta))\n",
    "            print(f'detector: {kind}, theta: {theta}')\n",
    "            show_image_withbb_nb(rotated_rgbimg, bboxes)\n",
    "    \n",
    "def compare_allpics():\n",
    "    '''\n",
    "    全ての顔画像に対して、それぞれのモデル、それぞれの角度による顔検出結果を表示する。\n",
    "    '''\n",
    "    for i, pic in enumerate(pics):\n",
    "        rgbimg = img.imread(pic)\n",
    "        for kind in detectors.keys():\n",
    "            for theta in rotation_angles:\n",
    "                rotated_rgbimg = rotate(rgbimg, theta)\n",
    "                bboxes = detectors[kind](rotate(rotated_rgbimg, theta))\n",
    "                print(f'pic: {pics[i]}, detector: {kind}, theta: {theta}')\n",
    "                show_image_withbb_nb(rotated_rgbimg, bboxes)"
   ]
  },
  {
   "cell_type": "code",
   "execution_count": null,
   "id": "0dcd03b0-fb50-493e-9723-c3a380b46c71",
   "metadata": {},
   "outputs": [],
   "source": [
    "#compare_onepic(0)\n",
    "#compare_allpics()"
   ]
  },
  {
   "cell_type": "code",
   "execution_count": null,
   "id": "6b86d91a-5a56-4540-8cc4-3e93f77d0703",
   "metadata": {},
   "outputs": [],
   "source": [
    "infer(0, 'Haar-like', 0)"
   ]
  }
 ],
 "metadata": {
  "kernelspec": {
   "display_name": "Python 3 (ipykernel)",
   "language": "python",
   "name": "python3"
  },
  "language_info": {
   "codemirror_mode": {
    "name": "ipython",
    "version": 3
   },
   "file_extension": ".py",
   "mimetype": "text/x-python",
   "name": "python",
   "nbconvert_exporter": "python",
   "pygments_lexer": "ipython3",
   "version": "3.9.12"
  }
 },
 "nbformat": 4,
 "nbformat_minor": 5
}
