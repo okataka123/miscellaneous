{
 "cells": [
  {
   "cell_type": "markdown",
   "id": "7dd71f61-6bf2-4835-900a-17c457de9da6",
   "metadata": {},
   "source": [
    "## Comparison"
   ]
  },
  {
   "cell_type": "code",
   "execution_count": null,
   "id": "0dcd490c-a88f-410e-9380-c17024d642b5",
   "metadata": {},
   "outputs": [],
   "source": [
    "import re\n",
    "import cv2\n",
    "import dlib\n",
    "import glob\n",
    "import matplotlib.pyplot as plt\n",
    "import matplotlib.image as img\n",
    "import numpy as np\n",
    "from FaceDetection import *"
   ]
  },
  {
   "cell_type": "code",
   "execution_count": null,
   "id": "26be0b43-b033-484b-985a-9d4b939618b0",
   "metadata": {},
   "outputs": [],
   "source": [
    "pics = sorted(glob.glob('./pics/*'))\n",
    "for pic in pics:\n",
    "    print(pic)"
   ]
  },
  {
   "cell_type": "code",
   "execution_count": null,
   "id": "089c7b00-0db8-446d-baa4-82f6d2bc705a",
   "metadata": {},
   "outputs": [],
   "source": [
    "#rotation_angles = [0, 15, 30, 45, 60, 90, -15, -30, -45, -60, -90]\n",
    "rotation_angles = [0, 15, 30, 45, -15, -30, -45]\n",
    "detectors = {\n",
    "    'Haar-like': detectFace_HaarlikeFeature, \n",
    "    'HOGSVM': detectFace_HOGSVM,\n",
    "    'ResNet10base': detectFace_ResNet10base,\n",
    "    'dlibCNN': detectFace_cnn,\n",
    "    'mtcnn': detectFace_mtcnn,\n",
    "}    "
   ]
  },
  {
   "cell_type": "code",
   "execution_count": null,
   "id": "e4eeab3f-eed4-4ea8-adb9-bb471443c4ff",
   "metadata": {},
   "outputs": [],
   "source": [
    "def infer(picno, kind, theta=0, do_save=False):\n",
    "    tmppath = pics[picno]\n",
    "    rgbimg = img.imread(tmppath)\n",
    "    rotated_rgbimg = rotate(rgbimg, theta)\n",
    "    bboxes = detectors[kind](rotate(rotated_rgbimg, theta))\n",
    "    print(f'detector: {kind}, theta: {theta}')\n",
    "    bboxed_roteted_rgbimg = get_image_withbb(rotated_rgbimg, bboxes)\n",
    "    show_image_nb(bboxed_roteted_rgbimg)\n",
    "    if do_save:\n",
    "        pattern = './pics/(\\w+).jpg'\n",
    "        res = re.findall(pattern, tmppath)\n",
    "        plt.imsave(f'results/{res[0]}_{kind}_{theta}deg.jpg', bboxed_roteted_rgbimg)\n",
    "    \n",
    "def compare_onepic(picno, do_save=False):\n",
    "    '''\n",
    "    指定した1つの顔画像に対して、それぞれのモデル、それぞれの角度による顔検出結果を表示する。\n",
    "    '''\n",
    "    tmppath = pics[picno]\n",
    "    rgbimg = img.imread(tmppath)\n",
    "    for kind in detectors.keys():\n",
    "        for theta in rotation_angles:\n",
    "            rotated_rgbimg = rotate(rgbimg, theta)\n",
    "            bboxes = detectors[kind](rotate(rotated_rgbimg, theta))\n",
    "            print(f'detector: {kind}, theta: {theta}')\n",
    "            bboxed_roteted_rgbimg = get_image_withbb(rotated_rgbimg, bboxes)\n",
    "            #show_image_nb(bboxed_roteted_rgbimg)    \n",
    "            if do_save:\n",
    "                pattern = './pics/(\\w+).jpg'\n",
    "                res = re.findall(pattern, tmppath)\n",
    "                plt.imsave(f'results/{res[0]}_{kind}_{theta}deg.jpg', bboxed_roteted_rgbimg)\n",
    "    \n",
    "def compare_allpics(do_save=False):\n",
    "    '''\n",
    "    全ての顔画像に対して、それぞれのモデル、それぞれの角度による顔検出結果を表示する。\n",
    "    '''\n",
    "    for i, pic in enumerate(pics):\n",
    "        rgbimg = img.imread(pic)\n",
    "        for kind in detectors.keys():\n",
    "            for theta in rotation_angles:\n",
    "                rotated_rgbimg = rotate(rgbimg, theta)\n",
    "                bboxes = detectors[kind](rotate(rotated_rgbimg, theta))\n",
    "                print(f'pic: {pics[i]}, detector: {kind}, theta: {theta}')\n",
    "                bboxed_roteted_rgbimg = get_image_withbb(rotated_rgbimg, bboxes)\n",
    "                #show_image_nb(bboxed_roteted_rgbimg)\n",
    "                if do_save:\n",
    "                    pattern = './pics/(\\w+).jpg'\n",
    "                    res = re.findall(pattern, pic)\n",
    "                    plt.imsave(f'results/{res[0]}_{kind}_{theta}deg.jpg', bboxed_roteted_rgbimg)"
   ]
  },
  {
   "cell_type": "code",
   "execution_count": null,
   "id": "576b739f-fba8-48e2-adf2-7f1c87529e49",
   "metadata": {},
   "outputs": [],
   "source": [
    "compare_onepic(0)"
   ]
  },
  {
   "cell_type": "code",
   "execution_count": null,
   "id": "3d830c30-5329-4ca4-9011-a7f506922dd9",
   "metadata": {},
   "outputs": [],
   "source": [
    "compare_onepic(1)"
   ]
  },
  {
   "cell_type": "code",
   "execution_count": null,
   "id": "c9d22413-3c0d-4349-8352-2ddbac11b315",
   "metadata": {},
   "outputs": [],
   "source": [
    "compare_onepic(2) # errorが起こる。"
   ]
  },
  {
   "cell_type": "code",
   "execution_count": null,
   "id": "aa346c98-6d6f-4ecc-820a-ddeef0ebe080",
   "metadata": {},
   "outputs": [],
   "source": [
    "compare_onepic(3)"
   ]
  },
  {
   "cell_type": "code",
   "execution_count": null,
   "id": "32a0b569-5984-42d4-a15c-f6b02922c8a5",
   "metadata": {},
   "outputs": [],
   "source": [
    "compare_onepic(4)"
   ]
  },
  {
   "cell_type": "code",
   "execution_count": null,
   "id": "c77caa15-c001-43e3-af6c-886362b0a7ab",
   "metadata": {},
   "outputs": [],
   "source": [
    "compare_onepic(5)"
   ]
  },
  {
   "cell_type": "code",
   "execution_count": null,
   "id": "3f2447c5-178f-4549-8e4b-12558a54c22e",
   "metadata": {},
   "outputs": [],
   "source": [
    "compare_onepic(6)"
   ]
  },
  {
   "cell_type": "code",
   "execution_count": null,
   "id": "f054f37a-afe4-4254-8b09-b37a721cd170",
   "metadata": {},
   "outputs": [],
   "source": [
    "compare_onepic(7)"
   ]
  },
  {
   "cell_type": "code",
   "execution_count": null,
   "id": "0dcd03b0-fb50-493e-9723-c3a380b46c71",
   "metadata": {},
   "outputs": [],
   "source": [
    "#compare_allpics(do_save=True)"
   ]
  },
  {
   "cell_type": "code",
   "execution_count": null,
   "id": "6b86d91a-5a56-4540-8cc4-3e93f77d0703",
   "metadata": {},
   "outputs": [],
   "source": [
    "infer(0, 'Haar-like', 0)"
   ]
  },
  {
   "cell_type": "code",
   "execution_count": null,
   "id": "f685bd59-09c7-4a06-9b7f-0e8597d76296",
   "metadata": {},
   "outputs": [],
   "source": [
    "infer(0, 'HOGSVM', 0)"
   ]
  },
  {
   "cell_type": "code",
   "execution_count": null,
   "id": "aaad3240-8326-4124-ae51-a3ce2ef4edd2",
   "metadata": {},
   "outputs": [],
   "source": [
    "infer(0, 'ResNet10base', 0)"
   ]
  },
  {
   "cell_type": "code",
   "execution_count": null,
   "id": "9e4840b7-7bd8-45cb-bcbd-e3c3b4afdef6",
   "metadata": {},
   "outputs": [],
   "source": [
    "infer(0, 'dlibCNN', 0)"
   ]
  },
  {
   "cell_type": "code",
   "execution_count": null,
   "id": "9eb3e13b-0a99-4697-b04d-4ca8556e14c9",
   "metadata": {},
   "outputs": [],
   "source": [
    "infer(0, 'mtcnn', 0)"
   ]
  }
 ],
 "metadata": {
  "kernelspec": {
   "display_name": "Python 3 (ipykernel)",
   "language": "python",
   "name": "python3"
  },
  "language_info": {
   "codemirror_mode": {
    "name": "ipython",
    "version": 3
   },
   "file_extension": ".py",
   "mimetype": "text/x-python",
   "name": "python",
   "nbconvert_exporter": "python",
   "pygments_lexer": "ipython3",
   "version": "3.9.12"
  }
 },
 "nbformat": 4,
 "nbformat_minor": 5
}
